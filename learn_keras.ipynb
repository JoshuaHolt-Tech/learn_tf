{
 "cells": [
  {
   "cell_type": "markdown",
   "id": "9281b361-31da-4bb3-b522-21f3bd75e406",
   "metadata": {},
   "source": [
    "YouTube video = https://www.youtube.com/watch?v=qFJeN9V1ZsI&t=1130s"
   ]
  },
  {
   "cell_type": "code",
   "execution_count": 1,
   "id": "5e9e1644-ec5c-4e09-883a-4dcc9c76a328",
   "metadata": {},
   "outputs": [],
   "source": [
    "import numpy as np\n",
    "from random import randint\n",
    "from sklearn.utils import shuffle\n",
    "from sklearn.preprocessing import MinMaxScaler"
   ]
  },
  {
   "cell_type": "code",
   "execution_count": 2,
   "id": "af82aafe-a52a-41c2-8dc4-c88b93d7d5f5",
   "metadata": {},
   "outputs": [],
   "source": [
    "train_labels = []\n",
    "train_samples = []"
   ]
  },
  {
   "cell_type": "markdown",
   "id": "295d35eb-40f1-48b2-b7a6-96a7005d38ac",
   "metadata": {},
   "source": [
    "### Example data:\n",
    "\n",
    "- An experimental drug was tested on individuals from ages 13 to 100 in a clinical trial.\n",
    "- 2100 participants. Half <65 and half >65.\n",
    "- ~ 95% >= 65 experienced side effects.\n",
    "- ~ 95% < 65 had no side effects.\n",
    "- 1 = side effects\n",
    "- 0 = no side effects"
   ]
  },
  {
   "cell_type": "code",
   "execution_count": 3,
   "id": "292c6490-478f-4740-87df-a0fc5cacd753",
   "metadata": {},
   "outputs": [],
   "source": [
    "for i in range (50):\n",
    "    # The ~5% of <65 who had side effects.\n",
    "    random_younger = randint(13,64)\n",
    "    train_samples.append(random_younger)\n",
    "    train_labels.append(1)\n",
    "\n",
    "    #The ~5% of >=65 who had no side effects.\n",
    "    random_older = randint(65, 100)\n",
    "    train_samples.append(random_older)\n",
    "    train_labels.append(0)\n",
    "\n",
    "for i in range(1000):\n",
    "    # The ~95% of <65 who had no side effects.\n",
    "    random_younger = randint(13,64)\n",
    "    train_samples.append(random_younger)\n",
    "    train_labels.append(0)\n",
    "\n",
    "    #The ~95% of >=65 who had side effects.\n",
    "    random_older = randint(65, 100)\n",
    "    train_samples.append(random_older)\n",
    "    train_labels.append(1)"
   ]
  },
  {
   "cell_type": "code",
   "execution_count": 4,
   "id": "d168f4aa-ef14-44df-8ac5-afd573a99db8",
   "metadata": {},
   "outputs": [],
   "source": [
    "#np.unique returns a tuple. When `return_counts = True` the second element is the counts of each value.\n",
    "unique_counts0 = np.unique(train_samples, return_counts = True)"
   ]
  },
  {
   "cell_type": "code",
   "execution_count": 5,
   "id": "ba7f7320-a5c2-46f3-bdb8-c46d83434c21",
   "metadata": {},
   "outputs": [],
   "source": [
    "train_labels = np.array(train_labels)\n",
    "train_samples = np.array(train_samples)\n",
    "train_labels, train_samples = shuffle(train_labels, train_samples)"
   ]
  },
  {
   "cell_type": "code",
   "execution_count": 6,
   "id": "c6ed25cc-c1f3-4fcb-873b-3354a539650a",
   "metadata": {},
   "outputs": [],
   "source": [
    "scaler = MinMaxScaler(feature_range=(0,1))\n",
    "scaled_train_samples = scaler.fit_transform(train_samples.reshape(-1,1))"
   ]
  },
  {
   "cell_type": "code",
   "execution_count": 7,
   "id": "328e92df-13ff-48c5-9af2-b823efc8db22",
   "metadata": {},
   "outputs": [],
   "source": [
    "unique_counts1 = np.unique(scaled_train_samples, return_counts = True)"
   ]
  },
  {
   "cell_type": "code",
   "execution_count": 8,
   "id": "b5e4aa8f-d70b-4dba-9e54-49f3f7f0a771",
   "metadata": {},
   "outputs": [
    {
     "data": {
      "text/plain": [
       "array([ True,  True,  True,  True,  True,  True,  True,  True,  True,\n",
       "        True,  True,  True,  True,  True,  True,  True,  True,  True,\n",
       "        True,  True,  True,  True,  True,  True,  True,  True,  True,\n",
       "        True,  True,  True,  True,  True,  True,  True,  True,  True,\n",
       "        True,  True,  True,  True,  True,  True,  True,  True,  True,\n",
       "        True,  True,  True,  True,  True,  True,  True,  True,  True,\n",
       "        True,  True,  True,  True,  True,  True,  True,  True,  True,\n",
       "        True,  True,  True,  True,  True,  True,  True,  True,  True,\n",
       "        True,  True,  True,  True,  True,  True,  True,  True,  True,\n",
       "        True,  True,  True,  True,  True,  True,  True])"
      ]
     },
     "execution_count": 8,
     "metadata": {},
     "output_type": "execute_result"
    }
   ],
   "source": [
    "unique_counts1[1] == unique_counts0[1]"
   ]
  },
  {
   "cell_type": "code",
   "execution_count": 9,
   "id": "e849f1a7-b084-4204-afc0-f90999842772",
   "metadata": {},
   "outputs": [],
   "source": [
    "import tensorflow as tf\n",
    "from tensorflow import keras\n",
    "from tensorflow.keras.models import Sequential\n",
    "from tensorflow.keras.layers import Activation, Dense\n",
    "from tensorflow.keras.optimizers import Adam\n",
    "from tensorflow.keras.metrics import categorical_crossentropy"
   ]
  },
  {
   "cell_type": "code",
   "execution_count": null,
   "id": "9e30de33-fa5f-4425-90ed-0c3326cb31cb",
   "metadata": {},
   "outputs": [],
   "source": []
  }
 ],
 "metadata": {
  "kernelspec": {
   "display_name": "Python 3 (ipykernel)",
   "language": "python",
   "name": "python3"
  },
  "language_info": {
   "codemirror_mode": {
    "name": "ipython",
    "version": 3
   },
   "file_extension": ".py",
   "mimetype": "text/x-python",
   "name": "python",
   "nbconvert_exporter": "python",
   "pygments_lexer": "ipython3",
   "version": "3.10.4"
  }
 },
 "nbformat": 4,
 "nbformat_minor": 5
}
