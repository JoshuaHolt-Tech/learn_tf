{
 "cells": [
  {
   "cell_type": "markdown",
   "id": "9281b361-31da-4bb3-b522-21f3bd75e406",
   "metadata": {},
   "source": [
    "YouTube video = https://www.youtube.com/watch?v=qFJeN9V1ZsI&t=1130s"
   ]
  },
  {
   "cell_type": "code",
   "execution_count": 1,
   "id": "5e9e1644-ec5c-4e09-883a-4dcc9c76a328",
   "metadata": {},
   "outputs": [],
   "source": [
    "import numpy as np\n",
    "from random import randint\n",
    "from sklearn.utils import shuffle\n",
    "from sklearn.preprocessing import MinMaxScaler"
   ]
  },
  {
   "cell_type": "code",
   "execution_count": 2,
   "id": "af82aafe-a52a-41c2-8dc4-c88b93d7d5f5",
   "metadata": {},
   "outputs": [],
   "source": [
    "train_labels = []\n",
    "train_samples = []"
   ]
  },
  {
   "cell_type": "markdown",
   "id": "295d35eb-40f1-48b2-b7a6-96a7005d38ac",
   "metadata": {},
   "source": [
    "### Example data:\n",
    "\n",
    "- An experimental drug was tested on individuals from ages 13 to 100 in a clinical trial.\n",
    "- 2100 participants. Half <65 and half >65.\n",
    "- ~ 95% >= 65 experienced side effects.\n",
    "- ~ 95% < 65 had no side effects.\n",
    "- 1 = side effects\n",
    "- 0 = no side effects"
   ]
  },
  {
   "cell_type": "code",
   "execution_count": 3,
   "id": "292c6490-478f-4740-87df-a0fc5cacd753",
   "metadata": {},
   "outputs": [],
   "source": [
    "for i in range (50):\n",
    "    # The ~5% of <65 who had side effects.\n",
    "    random_younger = randint(13,64)\n",
    "    train_samples.append(random_younger)\n",
    "    train_labels.append(1)\n",
    "\n",
    "    #The ~5% of >=65 who had no side effects.\n",
    "    random_older = randint(65, 100)\n",
    "    train_samples.append(random_older)\n",
    "    train_labels.append(0)\n",
    "\n",
    "for i in range(1000):\n",
    "    # The ~95% of <65 who had no side effects.\n",
    "    random_younger = randint(13,64)\n",
    "    train_samples.append(random_younger)\n",
    "    train_labels.append(0)\n",
    "\n",
    "    #The ~95% of >=65 who had side effects.\n",
    "    random_older = randint(65, 100)\n",
    "    train_samples.append(random_older)\n",
    "    train_labels.append(1)"
   ]
  },
  {
   "cell_type": "code",
   "execution_count": 4,
   "id": "d168f4aa-ef14-44df-8ac5-afd573a99db8",
   "metadata": {},
   "outputs": [],
   "source": [
    "#np.unique returns a tuple. When `return_counts = True` the second element is the counts of each value.\n",
    "unique_counts0 = np.unique(train_samples, return_counts = True)"
   ]
  },
  {
   "cell_type": "code",
   "execution_count": 5,
   "id": "ba7f7320-a5c2-46f3-bdb8-c46d83434c21",
   "metadata": {},
   "outputs": [],
   "source": [
    "train_labels = np.array(train_labels)\n",
    "train_samples = np.array(train_samples)\n",
    "train_labels, train_samples = shuffle(train_labels, train_samples)"
   ]
  },
  {
   "cell_type": "code",
   "execution_count": 6,
   "id": "c6ed25cc-c1f3-4fcb-873b-3354a539650a",
   "metadata": {},
   "outputs": [],
   "source": [
    "scaler = MinMaxScaler(feature_range=(0,1))\n",
    "scaled_train_samples = scaler.fit_transform(train_samples.reshape(-1,1))"
   ]
  },
  {
   "cell_type": "code",
   "execution_count": 7,
   "id": "328e92df-13ff-48c5-9af2-b823efc8db22",
   "metadata": {},
   "outputs": [],
   "source": [
    "unique_counts1 = np.unique(scaled_train_samples, return_counts = True)"
   ]
  },
  {
   "cell_type": "code",
   "execution_count": 8,
   "id": "b5e4aa8f-d70b-4dba-9e54-49f3f7f0a771",
   "metadata": {},
   "outputs": [
    {
     "data": {
      "text/plain": [
       "array([ True,  True,  True,  True,  True,  True,  True,  True,  True,\n",
       "        True,  True,  True,  True,  True,  True,  True,  True,  True,\n",
       "        True,  True,  True,  True,  True,  True,  True,  True,  True,\n",
       "        True,  True,  True,  True,  True,  True,  True,  True,  True,\n",
       "        True,  True,  True,  True,  True,  True,  True,  True,  True,\n",
       "        True,  True,  True,  True,  True,  True,  True,  True,  True,\n",
       "        True,  True,  True,  True,  True,  True,  True,  True,  True,\n",
       "        True,  True,  True,  True,  True,  True,  True,  True,  True,\n",
       "        True,  True,  True,  True,  True,  True,  True,  True,  True,\n",
       "        True,  True,  True,  True,  True,  True,  True])"
      ]
     },
     "execution_count": 8,
     "metadata": {},
     "output_type": "execute_result"
    }
   ],
   "source": [
    "unique_counts1[1] == unique_counts0[1]"
   ]
  },
  {
   "cell_type": "code",
   "execution_count": 9,
   "id": "e849f1a7-b084-4204-afc0-f90999842772",
   "metadata": {},
   "outputs": [],
   "source": [
    "import tensorflow as tf\n",
    "from tensorflow import keras\n",
    "from tensorflow.keras.models import Sequential\n",
    "from tensorflow.keras.layers import Activation, Dense\n",
    "from tensorflow.keras.optimizers import Adam\n",
    "from tensorflow.keras.metrics import categorical_crossentropy, Recall"
   ]
  },
  {
   "cell_type": "code",
   "execution_count": 10,
   "id": "9e30de33-fa5f-4425-90ed-0c3326cb31cb",
   "metadata": {},
   "outputs": [
    {
     "name": "stderr",
     "output_type": "stream",
     "text": [
      "2023-07-17 14:48:35.647940: I tensorflow/core/platform/cpu_feature_guard.cc:151] This TensorFlow binary is optimized with oneAPI Deep Neural Network Library (oneDNN) to use the following CPU instructions in performance-critical operations:  SSE4.1 SSE4.2 AVX AVX2 FMA\n",
      "To enable them in other operations, rebuild TensorFlow with the appropriate compiler flags.\n"
     ]
    }
   ],
   "source": [
    "model = Sequential([\n",
    "    Dense(units=16, input_shape=(1,), activation='relu'),\n",
    "    Dense(units=32, activation='relu'),\n",
    "    Dense(units=2, activation='softmax') #Softmax includes output probability.\n",
    "])"
   ]
  },
  {
   "cell_type": "code",
   "execution_count": 11,
   "id": "d60992d2-cfa8-42fe-922b-b24e0388788f",
   "metadata": {},
   "outputs": [
    {
     "name": "stdout",
     "output_type": "stream",
     "text": [
      "Model: \"sequential\"\n",
      "_________________________________________________________________\n",
      " Layer (type)                Output Shape              Param #   \n",
      "=================================================================\n",
      " dense (Dense)               (None, 16)                32        \n",
      "                                                                 \n",
      " dense_1 (Dense)             (None, 32)                544       \n",
      "                                                                 \n",
      " dense_2 (Dense)             (None, 2)                 66        \n",
      "                                                                 \n",
      "=================================================================\n",
      "Total params: 642\n",
      "Trainable params: 642\n",
      "Non-trainable params: 0\n",
      "_________________________________________________________________\n"
     ]
    }
   ],
   "source": [
    "model.summary()"
   ]
  },
  {
   "cell_type": "code",
   "execution_count": 16,
   "id": "4b2c2f9b-5544-49f4-b341-1b1e1ee197ac",
   "metadata": {},
   "outputs": [],
   "source": [
    "model.compile(optimizer=Adam(learning_rate=0.0001), loss=\"sparse_categorical_crossentropy\", metrics=[\"accuracy\"])"
   ]
  },
  {
   "cell_type": "code",
   "execution_count": 17,
   "id": "88a741c4-08d5-4a45-a6d7-8bb6fb6e6da2",
   "metadata": {},
   "outputs": [
    {
     "name": "stdout",
     "output_type": "stream",
     "text": [
      "Epoch 1/30\n",
      "210/210 - 0s - loss: 0.6909 - accuracy: 0.4762 - 345ms/epoch - 2ms/step\n",
      "Epoch 2/30\n",
      "210/210 - 0s - loss: 0.6737 - accuracy: 0.6571 - 130ms/epoch - 618us/step\n",
      "Epoch 3/30\n",
      "210/210 - 0s - loss: 0.6514 - accuracy: 0.6971 - 130ms/epoch - 619us/step\n",
      "Epoch 4/30\n",
      "210/210 - 0s - loss: 0.6264 - accuracy: 0.7381 - 130ms/epoch - 620us/step\n",
      "Epoch 5/30\n",
      "210/210 - 0s - loss: 0.5990 - accuracy: 0.7571 - 131ms/epoch - 625us/step\n",
      "Epoch 6/30\n",
      "210/210 - 0s - loss: 0.5702 - accuracy: 0.7814 - 131ms/epoch - 622us/step\n",
      "Epoch 7/30\n",
      "210/210 - 0s - loss: 0.5407 - accuracy: 0.8043 - 130ms/epoch - 618us/step\n",
      "Epoch 8/30\n",
      "210/210 - 0s - loss: 0.5115 - accuracy: 0.8167 - 132ms/epoch - 628us/step\n",
      "Epoch 9/30\n",
      "210/210 - 0s - loss: 0.4836 - accuracy: 0.8400 - 132ms/epoch - 627us/step\n",
      "Epoch 10/30\n",
      "210/210 - 0s - loss: 0.4574 - accuracy: 0.8548 - 128ms/epoch - 608us/step\n",
      "Epoch 11/30\n",
      "210/210 - 0s - loss: 0.4334 - accuracy: 0.8662 - 130ms/epoch - 621us/step\n",
      "Epoch 12/30\n",
      "210/210 - 0s - loss: 0.4117 - accuracy: 0.8786 - 130ms/epoch - 619us/step\n",
      "Epoch 13/30\n",
      "210/210 - 0s - loss: 0.3922 - accuracy: 0.8852 - 127ms/epoch - 603us/step\n",
      "Epoch 14/30\n",
      "210/210 - 0s - loss: 0.3752 - accuracy: 0.8881 - 129ms/epoch - 616us/step\n",
      "Epoch 15/30\n",
      "210/210 - 0s - loss: 0.3602 - accuracy: 0.8962 - 131ms/epoch - 623us/step\n",
      "Epoch 16/30\n",
      "210/210 - 0s - loss: 0.3472 - accuracy: 0.9043 - 126ms/epoch - 601us/step\n",
      "Epoch 17/30\n",
      "210/210 - 0s - loss: 0.3358 - accuracy: 0.9090 - 129ms/epoch - 617us/step\n",
      "Epoch 18/30\n",
      "210/210 - 0s - loss: 0.3262 - accuracy: 0.9133 - 128ms/epoch - 611us/step\n",
      "Epoch 19/30\n",
      "210/210 - 0s - loss: 0.3177 - accuracy: 0.9148 - 129ms/epoch - 616us/step\n",
      "Epoch 20/30\n",
      "210/210 - 0s - loss: 0.3107 - accuracy: 0.9171 - 130ms/epoch - 619us/step\n",
      "Epoch 21/30\n",
      "210/210 - 0s - loss: 0.3045 - accuracy: 0.9167 - 127ms/epoch - 607us/step\n",
      "Epoch 22/30\n",
      "210/210 - 0s - loss: 0.2993 - accuracy: 0.9224 - 128ms/epoch - 609us/step\n",
      "Epoch 23/30\n",
      "210/210 - 0s - loss: 0.2948 - accuracy: 0.9238 - 127ms/epoch - 603us/step\n",
      "Epoch 24/30\n",
      "210/210 - 0s - loss: 0.2909 - accuracy: 0.9248 - 129ms/epoch - 613us/step\n",
      "Epoch 25/30\n",
      "210/210 - 0s - loss: 0.2875 - accuracy: 0.9300 - 130ms/epoch - 620us/step\n",
      "Epoch 26/30\n",
      "210/210 - 0s - loss: 0.2844 - accuracy: 0.9314 - 130ms/epoch - 617us/step\n",
      "Epoch 27/30\n",
      "210/210 - 0s - loss: 0.2819 - accuracy: 0.9305 - 127ms/epoch - 607us/step\n",
      "Epoch 28/30\n",
      "210/210 - 0s - loss: 0.2795 - accuracy: 0.9338 - 129ms/epoch - 613us/step\n",
      "Epoch 29/30\n",
      "210/210 - 0s - loss: 0.2775 - accuracy: 0.9343 - 132ms/epoch - 629us/step\n",
      "Epoch 30/30\n",
      "210/210 - 0s - loss: 0.2758 - accuracy: 0.9343 - 133ms/epoch - 633us/step\n"
     ]
    },
    {
     "data": {
      "text/plain": [
       "<keras.callbacks.History at 0x7f0810579660>"
      ]
     },
     "execution_count": 17,
     "metadata": {},
     "output_type": "execute_result"
    }
   ],
   "source": [
    "model.fit(x=scaled_train_samples, y=train_labels, batch_size=10, epochs=30, shuffle=True, verbose=2)"
   ]
  },
  {
   "cell_type": "code",
   "execution_count": null,
   "id": "4f4b87d6-349e-4667-b7b8-44bdda1de9a2",
   "metadata": {},
   "outputs": [],
   "source": []
  }
 ],
 "metadata": {
  "kernelspec": {
   "display_name": "Python 3 (ipykernel)",
   "language": "python",
   "name": "python3"
  },
  "language_info": {
   "codemirror_mode": {
    "name": "ipython",
    "version": 3
   },
   "file_extension": ".py",
   "mimetype": "text/x-python",
   "name": "python",
   "nbconvert_exporter": "python",
   "pygments_lexer": "ipython3",
   "version": "3.10.4"
  }
 },
 "nbformat": 4,
 "nbformat_minor": 5
}
