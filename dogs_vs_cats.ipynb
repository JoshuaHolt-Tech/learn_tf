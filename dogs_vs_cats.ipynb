{
 "cells": [
  {
   "cell_type": "markdown",
   "id": "f9a461bd-d676-4c7b-b274-6c21c6764a87",
   "metadata": {},
   "source": [
    "# Convolutional Neural Networks"
   ]
  },
  {
   "cell_type": "code",
   "execution_count": 1,
   "id": "5019d49f-fb49-4492-9b03-f51ee9028793",
   "metadata": {},
   "outputs": [],
   "source": [
    "#Imports\n",
    "import numpy as nplearn_tf\n",
    "import itertools\n",
    "import os\n",
    "import shutil\n",
    "import random\n",
    "import glob\n",
    "import matplotlib.pyplot as plt\n",
    "import warnings\n",
    "import tensorflow as tf\n",
    "from tensorflow import keras\n",
    "from tensorflow.keras.models import Sequential\n",
    "from tensorflow.keras.layers import Activation, Dense, Flatten, BatchNormalization, Conv2D, MaxPool2D\n",
    "from tensorflow.keras.optimizers import Adam\n",
    "from tensorflow.keras.metrics import categorical_crossentropy\n",
    "from tensorflow.keras.preprocessing.image import ImageDataGenerator\n",
    "from sklearn.metrics import confusion_matrix"
   ]
  },
  {
   "cell_type": "code",
   "execution_count": 2,
   "id": "582df7d2-ac94-4d00-b6ea-a44d296491e9",
   "metadata": {},
   "outputs": [],
   "source": [
    "#Preferences\n",
    "warnings.simplefilter(action=\"ignore\", category=FutureWarning)\n",
    "%matplotlib inline"
   ]
  },
  {
   "cell_type": "markdown",
   "id": "b4f0366e-4751-48d6-b690-53cf4a13512f",
   "metadata": {},
   "source": [
    "## Data Preparation"
   ]
  },
  {
   "cell_type": "markdown",
   "id": "69f26d42-ec5b-469b-ad12-71109f23c953",
   "metadata": {},
   "source": [
    "Images from Kaggle competition: https://www.kaggle.com/c/dogs-vs-cats"
   ]
  },
  {
   "cell_type": "code",
   "execution_count": 3,
   "id": "25992abf-3ba2-422d-9f0e-3bfd61956297",
   "metadata": {},
   "outputs": [],
   "source": [
    "# Organize data into train, valid, test dirs\n",
    "os.chdir(\"data/dogs-vs-cats\")"
   ]
  },
  {
   "cell_type": "code",
   "execution_count": 4,
   "id": "8ecf8e6d-8d65-4388-a3e0-13eb12817312",
   "metadata": {},
   "outputs": [],
   "source": [
    "if os.path.isdir(\"train/dog\") is False:\n",
    "    os.makedirs(\"train/dog\")\n",
    "    os.makedirs(\"train/cats\")\n",
    "    os.makedirs(\"val/dog\")\n",
    "    os.makedirs(\"val/cats\")\n",
    "    os.makedirs(\"test/dog\")\n",
    "    os.makedirs(\"test/cats\")\n",
    "    \n",
    "    for c in random.sample(glob.glob(\"train1/cat*\"), 1000):\n",
    "        shutil.move(c, \"train/cat\" )\n",
    "    for c in random.sample(glob.glob(\"train1/dog*\"), 1000):\n",
    "        shutil.move(c, \"train/dog\" )\n",
    "    \n",
    "    for c in random.sample(glob.glob(\"train1/cat*\"), 500):\n",
    "        shutil.move(c, \"val/cat\" )\n",
    "    for c in random.sample(glob.glob(\"train1/dog*\"), 500):\n",
    "        shutil.move(c, \"val/dog\" )\n",
    "    \n",
    "    for c in random.sample(glob.glob(\"train1/cat*\"), 100):\n",
    "        shutil.move(c, \"test/cat\" )\n",
    "    for c in random.sample(glob.glob(\"train1/dog*\"), 100):\n",
    "        shutil.move(c, \"test/dog\" )"
   ]
  },
  {
   "cell_type": "code",
   "execution_count": null,
   "id": "da2880fe-fb5c-4049-adfc-eb67154404cc",
   "metadata": {},
   "outputs": [],
   "source": []
  }
 ],
 "metadata": {
  "kernelspec": {
   "display_name": "Python 3 (ipykernel)",
   "language": "python",
   "name": "python3"
  },
  "language_info": {
   "codemirror_mode": {
    "name": "ipython",
    "version": 3
   },
   "file_extension": ".py",
   "mimetype": "text/x-python",
   "name": "python",
   "nbconvert_exporter": "python",
   "pygments_lexer": "ipython3",
   "version": "3.10.4"
  }
 },
 "nbformat": 4,
 "nbformat_minor": 5
}
